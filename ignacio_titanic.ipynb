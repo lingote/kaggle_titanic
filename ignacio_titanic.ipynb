{
 "cells": [
  {
   "cell_type": "code",
   "execution_count": 2,
   "metadata": {},
   "outputs": [],
   "source": [
    "from collections import Counter\n",
    "import numpy as np\n",
    "import pandas as pd\n",
    "import matplotlib.pyplot as plt\n",
    "from scipy.stats import chi2_contingency\n",
    "#from fancyimpute import KNN\n",
    "import knnimpute\n",
    "from sklearn.preprocessing import StandardScaler\n",
    "from sklearn.model_selection import train_test_split\n",
    "from xgboost import XGBClassifier\n",
    "from sklearn.model_selection import StratifiedKFold\n",
    "from sklearn.model_selection import cross_val_score\n",
    "from sklearn.model_selection import GridSearchCV\n",
    "from xgboost import plot_importance"
   ]
  },
  {
   "cell_type": "code",
   "execution_count": 3,
   "metadata": {},
   "outputs": [
    {
     "name": "stdout",
     "output_type": "stream",
     "text": [
      "Number of observations 891, number of features 12\n",
      "Index(['PassengerId', 'Survived', 'Pclass', 'Name', 'Sex', 'Age', 'SibSp',\n",
      "       'Parch', 'Ticket', 'Fare', 'Cabin', 'Embarked'],\n",
      "      dtype='object')\n"
     ]
    }
   ],
   "source": [
    "train_data = pd.read_csv('data/titanic_train.csv')\n",
    "print(f'Number of observations {train_data.shape[0]}, number of features {train_data.shape[1]}')\n",
    "print(train_data.columns)"
   ]
  },
  {
   "cell_type": "code",
   "execution_count": 4,
   "metadata": {},
   "outputs": [
    {
     "name": "stdout",
     "output_type": "stream",
     "text": [
      "             Ntot  No. NA  NA Frac.\n",
      "PassengerId   891       0  0.000000\n",
      "Survived      891       0  0.000000\n",
      "Pclass        891       0  0.000000\n",
      "Name          891       0  0.000000\n",
      "Sex           891       0  0.000000\n",
      "Age           714     177  0.198653\n",
      "SibSp         891       0  0.000000\n",
      "Parch         891       0  0.000000\n",
      "Ticket        891       0  0.000000\n",
      "Fare          891       0  0.000000\n",
      "Cabin         204     687  0.771044\n",
      "Embarked      889       2  0.002245\n",
      "\n",
      "\n",
      "Duplicate records (wrt PassengerId) 0\n"
     ]
    },
    {
     "data": {
      "text/plain": [
       "[]"
      ]
     },
     "execution_count": 4,
     "metadata": {},
     "output_type": "execute_result"
    },
    {
     "data": {
      "image/png": "[encoded data removed]",
      "text/plain": [
       "<matplotlib.figure.Figure at 0x20d41059198>"
      ]
     },
     "metadata": {},
     "output_type": "display_data"
    }
   ],
   "source": [
    "# Are there any missing values? At what fraction\n",
    "miss_vals = pd.concat([train_data.count(), train_data.isnull().sum(), train_data.isnull().sum()/train_data.shape[0]], axis=1)\n",
    "miss_vals.columns = ['Ntot', 'No. NA', 'NA Frac.']\n",
    "print(miss_vals)\n",
    "print('\\n')\n",
    "print(f'Duplicate records (wrt PassengerId) {train_data.PassengerId.duplicated().sum()}')\n",
    "fig, axs = plt.subplots(1,1)\n",
    "axs.bar(miss_vals.index, height=miss_vals['No. NA'])\n",
    "axs.set_title('NA values count')\n",
    "axs.tick_params(rotation=90)\n",
    "axs.semilogy()"
   ]
  },
  {
   "cell_type": "code",
   "execution_count": 5,
   "metadata": {},
   "outputs": [],
   "source": [
    "# PassengerId will be our index\n",
    "train_data.set_index('PassengerId', inplace=True, drop=True)"
   ]
  },
  {
   "cell_type": "code",
   "execution_count": 6,
   "metadata": {},
   "outputs": [
    {
     "name": "stdout",
     "output_type": "stream",
     "text": [
      "Survived has 2 values\n",
      "Pclass has 3 values\n",
      "Sex has 2 values\n",
      "SibSp has 7 values\n",
      "Parch has 7 values\n",
      "Cabin has 148 values\n",
      "Embarked has 4 values\n"
     ]
    }
   ],
   "source": [
    "# Check cardinality of int and object values\n",
    "for k, val in train_data.dtypes.iteritems():\n",
    "    if val == 'float64':\n",
    "        continue\n",
    "    # Ticket has high cardinality\n",
    "    if k == 'Ticket' or k == 'Name':\n",
    "        continue\n",
    "    print(f'{k} has {train_data[k].unique().shape[0]} values')"
   ]
  },
  {
   "cell_type": "code",
   "execution_count": 7,
   "metadata": {},
   "outputs": [
    {
     "name": "stdout",
     "output_type": "stream",
     "text": [
      "         Survived      Pclass         Age       SibSp       Parch        Fare\n",
      "count  891.000000  891.000000  714.000000  891.000000  891.000000  891.000000\n",
      "mean     0.383838    2.308642   29.699118    0.523008    0.381594   32.204208\n",
      "std      0.486592    0.836071   14.526497    1.102743    0.806057   49.693429\n",
      "min      0.000000    1.000000    0.420000    0.000000    0.000000    0.000000\n",
      "25%      0.000000    2.000000   20.125000    0.000000    0.000000    7.910400\n",
      "50%      0.000000    3.000000   28.000000    0.000000    0.000000   14.454200\n",
      "75%      1.000000    3.000000   38.000000    1.000000    0.000000   31.000000\n",
      "max      1.000000    3.000000   80.000000    8.000000    6.000000  512.329200\n"
     ]
    },
    {
     "data": {
      "image/png": "[encoded data removed]",
      "text/plain": [
       "<matplotlib.figure.Figure at 0x20d44c802b0>"
      ]
     },
     "metadata": {},
     "output_type": "display_data"
    },
    {
     "name": "stdout",
     "output_type": "stream",
     "text": [
      "Survived ratio\n",
      "0    0.616162\n",
      "1    0.383838\n",
      "Name: Survived, dtype: float64\n",
      "train data set is decently balanced\n"
     ]
    }
   ],
   "source": [
    "# Check if there's outliers/non-sensical values\n",
    "print(train_data.describe())\n",
    "\n",
    "# Do some exploratory plots\n",
    "fig, axs = plt.subplots(5,2)\n",
    "axs[0,0].bar(train_data['Survived'].value_counts().index, height=train_data['Survived'].value_counts())\n",
    "axs[0,0].set_title('Survived')\n",
    "axs[0,1].bar(train_data['Pclass'].value_counts().index, height=train_data['Pclass'].value_counts())\n",
    "axs[0,1].set_title('Pclass')\n",
    "axs[1,0].bar(train_data['Sex'].value_counts().index, height=train_data['Sex'].value_counts())\n",
    "axs[1,0].set_title('Sex')\n",
    "axs[1,1].hist(train_data['Age'].dropna())\n",
    "axs[1,1].set_title('Age')\n",
    "axs[2,0].bar(train_data['SibSp'].value_counts().index, height=train_data['SibSp'].value_counts())\n",
    "axs[2,0].set_title('SibSp')\n",
    "axs[2,1].bar(train_data['Parch'].value_counts().index, height=train_data['Parch'].value_counts())\n",
    "axs[2,1].set_title('Parch')\n",
    "axs[3,0].hist(train_data['Fare'])\n",
    "axs[3,0].set_title('Fare')\n",
    "axs[3,1].bar(train_data['Embarked'].value_counts().index, height=train_data['Embarked'].value_counts())\n",
    "axs[3,1].set_title('Embarked')\n",
    "axs[4,0].bar(train_data['Cabin'].value_counts().index, height=train_data['Cabin'].value_counts())\n",
    "axs[4,0].set_title('Cabin')\n",
    "plt.subplots_adjust(hspace=1.5)\n",
    "plt.show()\n",
    "fig.savefig('titanic_eda.png')"
   ]
  },
  {
   "cell_type": "code",
   "execution_count": 8,
   "metadata": {},
   "outputs": [
    {
     "name": "stdout",
     "output_type": "stream",
     "text": [
      "Survived ratio\n",
      "0    0.616162\n",
      "1    0.383838\n",
      "Name: Survived, dtype: float64\n",
      "train data set is decently balanced\n"
     ]
    }
   ],
   "source": [
    "print('Survived ratio')\n",
    "print('{}'.format(train_data['Survived'].value_counts(normalize=True)))\n",
    "print('train data set is decently balanced')"
   ]
  },
  {
   "cell_type": "code",
   "execution_count": 9,
   "metadata": {},
   "outputs": [
    {
     "name": "stdout",
     "output_type": "stream",
     "text": [
      "(891, 10)\n",
      "Survived      0\n",
      "Pclass        0\n",
      "Name          0\n",
      "Sex           0\n",
      "Age         177\n",
      "SibSp         0\n",
      "Parch         0\n",
      "Ticket        0\n",
      "Fare          0\n",
      "Embarked      0\n",
      "dtype: int64\n"
     ]
    }
   ],
   "source": [
    "# Drop 'Cabin' feature since > 77% is missing\n",
    "train_data.drop('Cabin', inplace=True, axis=1)\n",
    "# Assign records with NA Embarked the most common value\n",
    "train_data.loc[train_data['Embarked'].isnull(),'Embarked'] = train_data['Embarked'].value_counts().sort_values().index[-1]\n",
    "print(train_data.shape)\n",
    "print(train_data.isnull().sum())"
   ]
  },
  {
   "cell_type": "code",
   "execution_count": 10,
   "metadata": {},
   "outputs": [
    {
     "name": "stdout",
     "output_type": "stream",
     "text": [
      "PassengerId\n",
      "1                               Braund, Mr. Owen Harris\n",
      "2     Cumings, Mrs. John Bradley (Florence Briggs Th...\n",
      "3                                Heikkinen, Miss. Laina\n",
      "4          Futrelle, Mrs. Jacques Heath (Lily May Peel)\n",
      "5                              Allen, Mr. William Henry\n",
      "6                                      Moran, Mr. James\n",
      "7                               McCarthy, Mr. Timothy J\n",
      "8                        Palsson, Master. Gosta Leonard\n",
      "9     Johnson, Mrs. Oscar W (Elisabeth Vilhelmina Berg)\n",
      "10                  Nasser, Mrs. Nicholas (Adele Achem)\n",
      "Name: Name, dtype: object\n",
      "[('mr', 517), ('miss', 182), ('mrs', 125), ('william', 62), ('john', 44), ('master', 40), ('henry', 33), ('james', 24), ('charles', 23), ('george', 22), ('thomas', 21), ('edward', 18), ('joseph', 16), ('johan', 15), ('frederick', 15), ('mary', 13), ('richard', 13), ('samuel', 13), ('arthur', 13), ('alfred', 12)]\n"
     ]
    }
   ],
   "source": [
    "# Check 'Name' variable and try to reduce number of categories, i.e. get the title (Mr., Ms, Mrs, Dr. etc)\n",
    "print(train_data.loc[:10,'Name'])\n",
    "name_list = []\n",
    "train_data.loc[:, 'Name'].apply(lambda x: name_list.extend([j.lower().strip('.') for j in x.split()]))\n",
    "c = Counter(name_list)\n",
    "print(c.most_common()[:20])"
   ]
  },
  {
   "cell_type": "code",
   "execution_count": 11,
   "metadata": {},
   "outputs": [
    {
     "name": "stdout",
     "output_type": "stream",
     "text": [
      "Categorical variables ['Sex' 'Ticket' 'Embarked' 'Title']\n"
     ]
    }
   ],
   "source": [
    "# Transform Name feature to Title feature\n",
    "train_data.loc[:, 'Name'] = train_data.loc[:, 'Name'].apply(lambda x: x.lower())\n",
    "titles = ['mr', 'miss', 'mrs', 'master', 'dr', 'rev']\n",
    "def get_title(fullname, titles=titles):\n",
    "    for j in fullname.lower().split():\n",
    "        if j.strip('.') in titles:\n",
    "            return j.strip('.')\n",
    "        else:\n",
    "            continue\n",
    "    return 'Unknown'\n",
    "train_data['Title'] = train_data.loc[:, 'Name'].apply(get_title)\n",
    "# We don't need 'Name' anymore\n",
    "train_data.drop('Name', axis=1, inplace=True)\n",
    "cat_vars = train_data.dtypes[train_data.dtypes=='O'].index.values\n",
    "num_cat = train_data.dtypes[train_data.dtypes!='O'].index.values\n",
    "print(f'Categorical variables {cat_vars}')"
   ]
  },
  {
   "cell_type": "code",
   "execution_count": 12,
   "metadata": {},
   "outputs": [
    {
     "name": "stdout",
     "output_type": "stream",
     "text": [
      "Survived      int64\n",
      "Pclass        int64\n",
      "Sex          object\n",
      "Age         float64\n",
      "SibSp         int64\n",
      "Parch         int64\n",
      "Ticket       object\n",
      "Fare        float64\n",
      "Embarked     object\n",
      "Title        object\n",
      "dtype: object\n",
      "Sex has (2,) categories\n",
      "Ticket has (681,) categories\n",
      "Embarked has (3,) categories\n",
      "Title has (7,) categories\n"
     ]
    }
   ],
   "source": [
    "# Get feature types\n",
    "print(train_data.dtypes)\n",
    "# Check only object type features and check categories\n",
    "cat_vars = train_data.dtypes[train_data.dtypes=='O'].index.values\n",
    "for cat in cat_vars:\n",
    "    print(f'{cat} has {train_data[cat].unique().shape} categories')"
   ]
  },
  {
   "cell_type": "code",
   "execution_count": 13,
   "metadata": {},
   "outputs": [],
   "source": [
    "# Create one-hot encoded dataset\n",
    "def do_onehot(sourcedata, cat_vars=cat_vars):\n",
    "    df_dest = sourcedata.copy(deep=True)\n",
    "    for cat in cat_vars:\n",
    "        # Ticket has too many values\n",
    "        if cat == 'Ticket':\n",
    "            df_dest.drop(cat, axis=1, inplace=True)\n",
    "            continue\n",
    "        df_dest = df_dest.merge(pd.get_dummies(sourcedata[cat], prefix=cat), left_index=True, right_index=True)\n",
    "        df_dest.drop(cat, axis=1, inplace=True)\n",
    "    return df_dest"
   ]
  },
  {
   "cell_type": "code",
   "execution_count": 14,
   "metadata": {},
   "outputs": [],
   "source": [
    "train_full_cat = do_onehot(train_data)"
   ]
  },
  {
   "cell_type": "code",
   "execution_count": 15,
   "metadata": {},
   "outputs": [
    {
     "name": "stdout",
     "output_type": "stream",
     "text": [
      "Survived           0\n",
      "Pclass             0\n",
      "Age              177\n",
      "SibSp              0\n",
      "Parch              0\n",
      "Fare               0\n",
      "Sex_female         0\n",
      "Sex_male           0\n",
      "Embarked_C         0\n",
      "Embarked_Q         0\n",
      "Embarked_S         0\n",
      "Title_Unknown      0\n",
      "Title_dr           0\n",
      "Title_master       0\n",
      "Title_miss         0\n",
      "Title_mr           0\n",
      "Title_mrs          0\n",
      "Title_rev          0\n",
      "dtype: int64\n",
      "(891, 18)\n"
     ]
    }
   ],
   "source": [
    "print(train_full_cat.isnull().sum())\n",
    "print(train_full_cat.shape)"
   ]
  },
  {
   "cell_type": "code",
   "execution_count": 16,
   "metadata": {},
   "outputs": [
    {
     "name": "stderr",
     "output_type": "stream",
     "text": [
      "C:\\ProgramData\\Anaconda3\\lib\\site-packages\\ipykernel_launcher.py:6: SettingWithCopyWarning: \n",
      "A value is trying to be set on a copy of a slice from a DataFrame\n",
      "\n",
      "See the caveats in the documentation: http://pandas.pydata.org/pandas-docs/stable/indexing.html#indexing-view-versus-copy\n",
      "  \n"
     ]
    }
   ],
   "source": [
    "# Have a closer look at Age. Create subset with full Age data and subset with NA Age\n",
    "train_agedata = train_data.loc[train_data['Age'].dropna().index]\n",
    "train_naagedata = train_data.loc[train_data['Age'].isnull(),:]\n",
    "# Do not use Survived for age imputation\n",
    "train_agedata.drop('Survived', axis=1, inplace=True)\n",
    "train_naagedata.drop('Survived', axis=1, inplace=True)"
   ]
  },
  {
   "cell_type": "code",
   "execution_count": 17,
   "metadata": {},
   "outputs": [
    {
     "data": {
      "text/plain": [
       "Pclass      0\n",
       "Sex         0\n",
       "Age         0\n",
       "SibSp       0\n",
       "Parch       0\n",
       "Ticket      0\n",
       "Fare        0\n",
       "Embarked    0\n",
       "Title       0\n",
       "dtype: int64"
      ]
     },
     "execution_count": 17,
     "metadata": {},
     "output_type": "execute_result"
    }
   ],
   "source": [
    "train_agedata.isnull().sum()"
   ]
  },
  {
   "cell_type": "code",
   "execution_count": 18,
   "metadata": {},
   "outputs": [
    {
     "data": {
      "image/png": "[encoded data removed]",
      "text/plain": [
       "<matplotlib.figure.Figure at 0x20d45151a20>"
      ]
     },
     "metadata": {},
     "output_type": "display_data"
    }
   ],
   "source": [
    "# Age distributions women vs men\n",
    "fig, axs = plt.subplots(1,1)\n",
    "axs.hist(train_agedata.loc[train_agedata['Sex']=='male', 'Age'], label='men', density=True)\n",
    "axs.hist(train_agedata.loc[train_agedata['Sex']=='female', 'Age'], label='women', density=True)\n",
    "axs.legend()\n",
    "axs.set_title('Titanic train data')\n",
    "axs.set_xlabel('Age')\n",
    "plt.show()"
   ]
  },
  {
   "cell_type": "code",
   "execution_count": 19,
   "metadata": {},
   "outputs": [
    {
     "name": "stdout",
     "output_type": "stream",
     "text": [
      "ks stat: 0.10380350663520335; p-value 0.0524918961284574\n"
     ]
    }
   ],
   "source": [
    "# 2-sample Kolmogorov-Smirnov test to check whether Age distribution between 'male' and 'female' differ\n",
    "from scipy.stats import ks_2samp\n",
    "ks_age = ks_2samp(train_agedata.loc[train_agedata['Sex']=='male', 'Age'], train_agedata.loc[train_agedata['Sex']=='female', 'Age'])\n",
    "print(f'ks stat: {ks_age[0]}; p-value {ks_age[1]}')"
   ]
  },
  {
   "cell_type": "code",
   "execution_count": 20,
   "metadata": {},
   "outputs": [
    {
     "data": {
      "image/png": "[encoded data removed]",
      "text/plain": [
       "<matplotlib.figure.Figure at 0x20d4381d5c0>"
      ]
     },
     "metadata": {},
     "output_type": "display_data"
    }
   ],
   "source": [
    "# Plot categorical variables of data w/ Age and with NA Age\n",
    "fig, axs = plt.subplots(2,3, figsize=(15,10))\n",
    "i, j = 0, 0\n",
    "for cat in cat_vars.tolist() + ['SibSp', 'Parch']:\n",
    "    if cat == 'Ticket':\n",
    "        continue\n",
    "    vcount_age = train_agedata[cat].value_counts()\n",
    "    axs[i,j].bar(vcount_age.index, height=vcount_age/train_agedata.shape[0],\n",
    "                 label='w/ Age')\n",
    "    vcount = train_naagedata[cat].value_counts()\n",
    "    for val in train_agedata[cat].unique():\n",
    "        if val not in vcount.index:\n",
    "            vcount[val] = 0\n",
    "    axs[i,j].bar(vcount.index, height=vcount/train_naagedata.shape[0],\n",
    "                 fill=False, hatch='/', label='na Age')\n",
    "    axs[i,j].set_title(cat)\n",
    "    if cat == 'Title':\n",
    "        axs[i,j].tick_params(rotation=45)\n",
    "    axs[i,j].legend()\n",
    "    if j == 2:\n",
    "        j=0\n",
    "        i+=1\n",
    "    else:\n",
    "        j+=1\n",
    "# Handle 'Fare' separately since it's numerical\n",
    "axs[1,2].hist(train_agedata['Fare'], density=True, label='w/ Age')\n",
    "axs[1,2].hist(train_naagedata['Fare'], density=True, \n",
    "              fill=False, hatch='/', label='na Age')\n",
    "axs[1,2].legend()\n",
    "axs[1,2].set_title('Fare')\n",
    "plt.subplots_adjust(hspace=0.2)\n",
    "plt.tight_layout()\n",
    "fig.savefig('naage_vs_age.png')"
   ]
  },
  {
   "cell_type": "code",
   "execution_count": 21,
   "metadata": {},
   "outputs": [
    {
     "name": "stdout",
     "output_type": "stream",
     "text": [
      "        Age ok  NA Age\n",
      "row_0                 \n",
      "female     261      53\n",
      "male       453     124\n",
      "chi test statistic 2.43444, p-value: 0.11870\n",
      "p-value < 0.05 do not reject null hypothesis\n",
      "missing Age values has no gender bias\n"
     ]
    }
   ],
   "source": [
    "# Is there are relation between missing age and Sex?\n",
    "# Run a chi2 test on missing Age data vs Sex\n",
    "naage_sex = np.column_stack([np.concatenate([train_agedata['Sex'].values, train_naagedata['Sex'].values]),\n",
    "                 np.r_[np.zeros(shape=(train_agedata.shape[0])), np.ones(shape=(train_naagedata.shape[0]))]])\n",
    "contingency_tab = pd.crosstab(naage_sex[:,0], naage_sex[:,1])\n",
    "contingency_tab.columns = ['Age ok', 'NA Age']\n",
    "print(contingency_tab)\n",
    "chi2_test = chi2_contingency(contingency_tab)\n",
    "print(f'chi test statistic {chi2_test[0]:0.5f}, p-value: {chi2_test[1]:0.5f}')\n",
    "print('p-value < 0.05 do not reject null hypothesis') \n",
    "print('missing Age values has no gender bias')"
   ]
  },
  {
   "cell_type": "code",
   "execution_count": 23,
   "metadata": {},
   "outputs": [
    {
     "name": "stdout",
     "output_type": "stream",
     "text": [
      "       Age ok  NA Age\n",
      "row_0                \n",
      "C         130      38\n",
      "Q          28      49\n",
      "S         556      90\n",
      "chi test statistic 107.75883, p-value: 0.00000\n",
      "p-value < 0.05 reject null hypothesis - missing Age values correlates with port of embarkation\n"
     ]
    }
   ],
   "source": [
    "# Is there any correlation between port of embarkation and missing age?\n",
    "# Run a chi2 test on missing Age data vs Embarked\n",
    "naage_embarked = np.column_stack([np.concatenate([train_agedata['Embarked'].values, train_naagedata['Embarked'].values]),\n",
    "                 np.r_[np.zeros(shape=(train_agedata.shape[0])), np.ones(shape=(train_naagedata.shape[0]))]])\n",
    "contingency_tab = pd.crosstab(naage_embarked[:,0], naage_embarked[:,1])\n",
    "contingency_tab.columns = ['Age ok', 'NA Age']\n",
    "print(contingency_tab)\n",
    "chi2_test = chi2_contingency(contingency_tab)\n",
    "print(f'chi test statistic {chi2_test[0]:0.5f}, p-value: {chi2_test[1]:0.5f}')\n",
    "print('p-value < 0.05 reject null hypothesis - missing Age values correlates with port of embarkation')"
   ]
  },
  {
   "cell_type": "code",
   "execution_count": 24,
   "metadata": {},
   "outputs": [],
   "source": [
    "onehot_agedata = do_onehot(train_agedata)\n",
    "onehot_naagedata = do_onehot(train_naagedata)"
   ]
  },
  {
   "cell_type": "code",
   "execution_count": 25,
   "metadata": {},
   "outputs": [],
   "source": [
    "# Impute Age with KNN - test performance on subset with good Age data\n",
    "def impute_age(indata, k=10, frac=0.15, mode='test'):\n",
    "    \"\"\"\n",
    "    Args:\n",
    "       indata (DataFrame): input data\n",
    "       k (int):            k neareast neighbors\n",
    "       frac (float):       fraction of data to use for testing\n",
    "       mode (str):         are we testing on imputing unseen data\n",
    "    \n",
    "    Returns:\n",
    "       dict with data, used indices, true_values, rmse\n",
    "    \"\"\"\n",
    "    if mode == 'test':\n",
    "        test_idx = np.random.choice(indata.index, size=int(indata.shape[0]*frac))\n",
    "        age_bkp = indata.loc[test_idx, 'Age'].copy(deep=True)\n",
    "        indata.loc[test_idx, 'Age'] = np.nan\n",
    "    indata_imputed = pd.DataFrame(knnimpute.knn_impute_reference(indata.values,\n",
    "                                                                 np.isnan(indata.values), k),\n",
    "                                 columns=indata.columns, index=indata.index)\n",
    "    if mode != 'test':\n",
    "        return {'data': indata_imputed}\n",
    "    \n",
    "    indata.loc[test_idx,'Age'] = age_bkp\n",
    "    rmse = np.mean((indata_imputed.loc[test_idx, 'Age'] - age_bkp)**2)**0.5\n",
    "    return {'data': indata_imputed, 'test_idx': test_idx, 'orig_age': age_bkp, 'rmse': rmse}"
   ]
  },
  {
   "cell_type": "code",
   "execution_count": 26,
   "metadata": {},
   "outputs": [],
   "source": [
    "# Test Age imputation with onehot data and k=10...50\n",
    "rmse_k = {}\n",
    "for k in range(10, 50):\n",
    "    imp = impute_age(onehot_agedata, k=k)\n",
    "    rmse_k[k] = imp['rmse']"
   ]
  },
  {
   "cell_type": "code",
   "execution_count": 27,
   "metadata": {},
   "outputs": [],
   "source": [
    "# Test Age imputation with categorical age data and k=10...50\n",
    "from collections import defaultdict\n",
    "from sklearn.preprocessing import LabelEncoder\n",
    "le_dict = defaultdict(LabelEncoder)\n",
    "rmse_k_labenc = {}\n",
    "labenc_agedata = train_agedata.apply(lambda x: le_dict[x.name].fit_transform(x))\n",
    "for k in range(1, 50):\n",
    "    imp = impute_age(labenc_agedata, k=k)\n",
    "    rmse_k_labenc[k] = imp['rmse']"
   ]
  },
  {
   "cell_type": "code",
   "execution_count": 28,
   "metadata": {},
   "outputs": [],
   "source": [
    "# Impute Age from mean distribution\n",
    "test_idx = np.random.choice(train_agedata.index, size=int(train_agedata.shape[0]*0.15))\n",
    "age_bak = train_agedata.loc[test_idx, 'Age'].copy(deep=True)\n",
    "rmse_mean = np.mean((age_bak - np.mean(train_agedata.loc[~train_agedata.index.isin(test_idx), 'Age']))**2)**0.5\n"
   ]
  },
  {
   "cell_type": "code",
   "execution_count": 29,
   "metadata": {},
   "outputs": [
    {
     "data": {
      "image/png": "[encoded data removed]",
      "text/plain": [
       "<matplotlib.figure.Figure at 0x20d45110a20>"
      ]
     },
     "metadata": {},
     "output_type": "display_data"
    }
   ],
   "source": [
    "# Plot RMSE vs k values, compare one-hot encoding with simple label encoding\n",
    "# and with mean value encoding\n",
    "plt.plot(rmse_k.keys(), rmse_k.values(), label='one hot')\n",
    "plt.plot(rmse_k_labenc.keys(), rmse_k_labenc.values(), label='label encoder')\n",
    "plt.plot([0,50], [rmse_mean, rmse_mean], label='mean impute')\n",
    "best_kval = min(rmse_k, key=rmse_k.get)\n",
    "plt.text(2, 21, f'best k value: {best_kval} (w/ one hot encoding)')\n",
    "plt.legend()\n",
    "plt.title('Age knn imputation rmse vs k')\n",
    "plt.xlabel('k neighbors')\n",
    "plt.ylabel('rmse')\n",
    "plt.savefig('age_impute_knn.png')"
   ]
  },
  {
   "cell_type": "code",
   "execution_count": 30,
   "metadata": {},
   "outputs": [
    {
     "name": "stdout",
     "output_type": "stream",
     "text": [
      "Index(['Survived', 'Pclass', 'Age', 'SibSp', 'Parch', 'Fare', 'Sex_female',\n",
      "       'Embarked_C', 'Embarked_Q', 'Embarked_S', 'Title_Unknown', 'Title_dr',\n",
      "       'Title_master', 'Title_miss', 'Title_mr', 'Title_mrs', 'Title_rev'],\n",
      "      dtype='object')\n"
     ]
    }
   ],
   "source": [
    "# Impute 'Age' with one-hot encoded data with knn and best k\n",
    "oh_train_data = do_onehot(train_data)\n",
    "# We can drop the 'Sex_male' column and just keep 'Sex_female'\n",
    "oh_train_data.drop('Sex_male', axis=1, inplace=True)\n",
    "print(oh_train_data.columns)\n",
    "oh_train_data_age_impute = knnimpute.knn_impute_reference(oh_train_data.values,\n",
    "                                                         np.isnan(oh_train_data.values),\n",
    "                                                         k=best_kval)\n",
    "oh_train_data_age_impute = pd.DataFrame(oh_train_data_age_impute, columns=oh_train_data.columns,\n",
    "                                       index=oh_train_data.index)"
   ]
  },
  {
   "cell_type": "code",
   "execution_count": 31,
   "metadata": {},
   "outputs": [
    {
     "data": {
      "image/png": "[encoded data removed]",
      "text/plain": [
       "<matplotlib.figure.Figure at 0x20d437cf320>"
      ]
     },
     "metadata": {},
     "output_type": "display_data"
    }
   ],
   "source": [
    "# Compare Age distribution before and after imputation\n",
    "plt.hist(oh_train_data_age_impute['Age'], density=True, label='imputed')\n",
    "plt.hist(train_data['Age'].dropna(), density=True, fill=False, hatch='/', label='orig')\n",
    "plt.xlabel('Age')\n",
    "plt.title('Age pdf before and after imputation')\n",
    "plt.legend()\n",
    "plt.savefig('age_impute.png')"
   ]
  },
  {
   "cell_type": "code",
   "execution_count": 32,
   "metadata": {},
   "outputs": [
    {
     "name": "stdout",
     "output_type": "stream",
     "text": [
      "KS stat: 0.046766, p-value: 0.343802\n",
      "Cannot reject null-hypo, samples come \n",
      "from same distribution\n"
     ]
    }
   ],
   "source": [
    "# Run a 2 sample Kolmogorov-Smirnov test \n",
    "# to check whether the distributions are similar\n",
    "age_ks_test = ks_2samp(train_data['Age'].dropna(), oh_train_data_age_impute['Age'])\n",
    "print(f'KS stat: {age_ks_test[0]:0.6f}, p-value: {age_ks_test[1]:0.6f}')\n",
    "print('Cannot reject null-hypo, samples come \\nfrom same distribution')"
   ]
  },
  {
   "cell_type": "code",
   "execution_count": 33,
   "metadata": {},
   "outputs": [],
   "source": [
    "xgbclf = XGBClassifier()\n",
    "parameters = {'objective':['binary:logistic'],\n",
    "              'learning_rate': [0.05, 0.1, 1.0],\n",
    "              'max_depth': [2,3,4,6],\n",
    "              'min_child_weight': [5, 7, 9, 11],\n",
    "              'gamma': [0, 0.5, 1, 3],\n",
    "              'silent': [1],\n",
    "              'subsample': [0.8],\n",
    "              'colsample_bytree': [0.7, 1.],\n",
    "              'n_estimators': [100, 200, 400, 600, 800],\n",
    "              'missing': [-1],\n",
    "              'reg_alpha': [0],\n",
    "              'reg_lambda': [1],\n",
    "              'seed': [1234]}\n",
    "\n",
    "clf_age_impute = GridSearchCV(xgbclf, parameters, n_jobs=5,\n",
    "                              cv=StratifiedKFold(n_splits=5, shuffle=True, \n",
    "                                                 random_state=1234), \n",
    "                              scoring=['accuracy','roc_auc'],\n",
    "                              verbose=2, refit='roc_auc',\n",
    "                              return_train_score=True, iid=False)\n",
    "\n",
    "clf_age_na = GridSearchCV(xgbclf, parameters, n_jobs=5,\n",
    "                          cv=StratifiedKFold(n_splits=5, shuffle=True, random_state=1234), \n",
    "                          scoring=['accuracy','roc_auc'], verbose=2, refit='roc_auc',\n",
    "                          return_train_score=True, iid=False)"
   ]
  },
  {
   "cell_type": "code",
   "execution_count": null,
   "metadata": {},
   "outputs": [
    {
     "name": "stdout",
     "output_type": "stream",
     "text": [
      "Fitting 5 folds for each of 1920 candidates, totalling 9600 fits\n"
     ]
    },
    {
     "name": "stderr",
     "output_type": "stream",
     "text": [
      "[Parallel(n_jobs=5)]: Done  31 tasks      | elapsed:   19.1s\n",
      "[Parallel(n_jobs=5)]: Done 152 tasks      | elapsed:   33.4s\n",
      "[Parallel(n_jobs=5)]: Done 355 tasks      | elapsed:  1.1min\n",
      "[Parallel(n_jobs=5)]: Done 638 tasks      | elapsed:  1.6min\n",
      "[Parallel(n_jobs=5)]: Done 1003 tasks      | elapsed:  2.4min\n",
      "[Parallel(n_jobs=5)]: Done 1448 tasks      | elapsed:  3.3min\n",
      "[Parallel(n_jobs=5)]: Done 1975 tasks      | elapsed:  4.5min\n",
      "[Parallel(n_jobs=5)]: Done 2582 tasks      | elapsed:  5.7min\n",
      "[Parallel(n_jobs=5)]: Done 3271 tasks      | elapsed:  7.3min\n",
      "[Parallel(n_jobs=5)]: Done 4040 tasks      | elapsed:  8.9min\n",
      "[Parallel(n_jobs=5)]: Done 4891 tasks      | elapsed: 10.6min\n"
     ]
    }
   ],
   "source": [
    "clf_age_impute.fit(oh_train_data_age_impute.drop('Survived', axis=1), oh_train_data_age_impute['Survived'])"
   ]
  },
  {
   "cell_type": "code",
   "execution_count": null,
   "metadata": {},
   "outputs": [],
   "source": [
    "oh_train_data.loc[oh_train_data['Age'].isnull(), 'Age'] = -1\n",
    "clf_age_na.fit(oh_train_data.drop('Survived', axis=1), oh_train_data['Survived'])"
   ]
  },
  {
   "cell_type": "code",
   "execution_count": null,
   "metadata": {},
   "outputs": [],
   "source": [
    "fig, axs = plt.subplots(2,1)\n",
    "axs[0].plot(clf_age_impute.cv_results_['mean_train_roc_auc'], label='auc - train')\n",
    "axs[0].plot(clf_age_impute.cv_results_['mean_test_roc_auc'], label='auc - test')\n",
    "axs[0].legend()\n",
    "axs[0].set_xlabel('parameter config')\n",
    "axs[0].set_ylabel('AUC')\n",
    "axs[0].text(0, 0.95, 'best config {}: {:0.3f}'.format(np.argmax(clf_age_impute.cv_results_['mean_test_roc_auc']),\n",
    "                                                max(clf_age_impute.cv_results_['mean_test_roc_auc'])))\n",
    "axs[1].plot(clf_age_impute.cv_results_['mean_train_accuracy'], label='acc. - train')\n",
    "axs[1].plot(clf_age_impute.cv_results_['mean_test_accuracy'], label='acc. - test')\n",
    "axs[1].legend()\n",
    "axs[1].set_ylabel('Acc.')\n",
    "axs[1].set_xlabel('parameter config')\n",
    "axs[1].text(0, 0.91, 'best config {}: {:0.3f}'.format(np.argmax(clf_age_impute.cv_results_['mean_test_accuracy']),\n",
    "                                            max(clf_age_impute.cv_results_['mean_test_accuracy'])))\n",
    "plt.subplots_adjust(hspace=0.7)\n",
    "fig.suptitle('One-hot encoded w/ kNN Age imputation')"
   ]
  },
  {
   "cell_type": "code",
   "execution_count": null,
   "metadata": {
    "scrolled": true
   },
   "outputs": [],
   "source": [
    "fig, axs = plt.subplots(2,1)\n",
    "axs[0].plot(clf_age_na.cv_results_['mean_train_roc_auc'], label='auc - train')\n",
    "axs[0].plot(clf_age_na.cv_results_['mean_test_roc_auc'], label='auc - test')\n",
    "axs[0].legend()\n",
    "axs[0].set_xlabel('parameter config')\n",
    "axs[0].set_ylabel('AUC')\n",
    "axs[0].text(0, 0.95, 'best config {}: {:0.3f}'.format(np.argmax(clf_age_na.cv_results_['mean_test_roc_auc']),\n",
    "                                                max(clf_age_na.cv_results_['mean_test_roc_auc'])))\n",
    "axs[1].plot(clf_age_na.cv_results_['mean_train_accuracy'], label='acc. - train')\n",
    "axs[1].plot(clf_age_na.cv_results_['mean_test_accuracy'], label='acc. - test')\n",
    "axs[1].legend()\n",
    "axs[1].set_ylabel('Acc.')\n",
    "axs[1].set_xlabel('parameter config')\n",
    "axs[1].text(10, 0.91, 'best config {}: {:0.3f}'.format(np.argmax(clf_age_impute.cv_results_['mean_test_accuracy']),\n",
    "                                            max(clf_age_impute.cv_results_['mean_test_accuracy'])))\n",
    "plt.subplots_adjust(hspace=0.7)\n",
    "fig.suptitle('One-hot encoded w/o Age imputation')"
   ]
  },
  {
   "cell_type": "code",
   "execution_count": null,
   "metadata": {},
   "outputs": [],
   "source": [
    "fold_error = []\n",
    "results = {}\n",
    "xgbbest0 = clf_age_impute.best_estimator_\n",
    "print(xgbbest.get_params)\n",
    "train_error = np.zeros(shape=(xgbbest.n_estimators,), dtype=np.float32)\n",
    "train_logloss = np.zeros(shape=(xgbbest.n_estimators,), dtype=np.float32)\n",
    "test_error = np.zeros(shape=(xgbbest.n_estimators,), dtype=np.float32)\n",
    "test_logloss = np.zeros(shape=(xgbbest.n_estimators,), dtype=np.float32)\n",
    "for train_idx, test_idx in clf_age_impute.cv.split(oh_train_data_age_impute.drop('Survived', axis=1), oh_train_data_age_impute['Survived']):\n",
    "    # get the loss for train and test folds\n",
    "    eval_set = [(oh_train_data_age_impute.drop('Survived', axis=1).values[train_idx,:],\n",
    "                oh_train_data_age_impute['Survived'].values[train_idx]),\n",
    "               (oh_train_data_age_impute.drop('Survived', axis=1).values[test_idx,:],\n",
    "                oh_train_data_age_impute['Survived'].values[test_idx])]\n",
    "    xgbbest.fit(oh_train_data_age_impute.drop('Survived', axis=1).values[train_idx,:],\n",
    "               oh_train_data_age_impute['Survived'].values[train_idx], eval_metric=['logloss', 'error'],\n",
    "              eval_set=eval_set, verbose=False)\n",
    "    results = xgbbest.evals_result()\n",
    "    train_error += np.array(results['validation_0']['error'])\n",
    "    train_logloss += np.array(results['validation_0']['logloss'])\n",
    "    test_error += np.array(results['validation_1']['error'])\n",
    "    test_logloss += np.array(results['validation_1']['logloss'])\n",
    "    \n",
    "xgbbest.fit(oh_train_data_age_impute.drop('Survived', axis=1),\n",
    "               oh_train_data_age_impute['Survived'])\n"
   ]
  },
  {
   "cell_type": "code",
   "execution_count": null,
   "metadata": {},
   "outputs": [],
   "source": [
    "fig, axs = plt.subplots(1,1)\n",
    "fig.suptitle('Error on 5 fold splits')\n",
    "axs.plot(train_error/5, label='train')\n",
    "axs.plot(test_error/5, label='test')\n",
    "axs.legend()\n",
    "axs.set_ylabel('Error')\n",
    "axs.set_xlabel('Epoch')"
   ]
  },
  {
   "cell_type": "code",
   "execution_count": null,
   "metadata": {},
   "outputs": [],
   "source": [
    "fig, axs = plt.subplots(1,1)\n",
    "fig.suptitle('Logloss on 5 fold splits')\n",
    "axs.plot(train_logloss/5, label='train')\n",
    "axs.plot(test_logloss/5, label='test')\n",
    "axs.legend()\n",
    "axs.set_ylabel('Logloss')\n",
    "axs.set_xlabel('Epoch')"
   ]
  },
  {
   "cell_type": "code",
   "execution_count": null,
   "metadata": {},
   "outputs": [],
   "source": [
    "plot_importance(xgbbest, importance_type='gain')"
   ]
  },
  {
   "cell_type": "code",
   "execution_count": null,
   "metadata": {},
   "outputs": [],
   "source": [
    "# Save model\n",
    "xgbbest.save_model('titanic_xgbest001.model')"
   ]
  },
  {
   "cell_type": "code",
   "execution_count": null,
   "metadata": {},
   "outputs": [],
   "source": [
    "# Check test data set\n",
    "titanic_test = pd.read_csv('data/titanic_test.csv')\n",
    "print(titanic_test.isnull().sum())\n",
    "print(f'test sample rows {titanic_test.shape[0]}, features {titanic_test.shape[1]}')"
   ]
  },
  {
   "cell_type": "code",
   "execution_count": null,
   "metadata": {},
   "outputs": [],
   "source": [
    "titanic_test.set_index('PassengerId', inplace=True, drop=True)\n",
    "titanic_test.drop('Cabin', axis=1, inplace=True)\n",
    "test_naage=titanic_test[titanic_test.loc[:, 'Age'].isnull()].index\n",
    "titanic_test.loc[titanic_test['Fare'].isnull(), 'Fare'] = train_data['Fare'].mean()"
   ]
  },
  {
   "cell_type": "code",
   "execution_count": null,
   "metadata": {},
   "outputs": [],
   "source": [
    "titanic_test['Title'] = titanic_test.loc[:, 'Name'].apply(get_title)\n",
    "titanic_test.drop('Name', axis=1, inplace=True)"
   ]
  },
  {
   "cell_type": "code",
   "execution_count": null,
   "metadata": {},
   "outputs": [],
   "source": [
    "# Impute missing 'Age' fields using knn\n",
    "# Combine NA Age rows of test data with good Age train data\n",
    "naage_test = titanic_test.loc[titanic_test['Age'].isnull()]\n",
    "print(naage_test.shape)\n",
    "oh_naage_test = do_onehot(titanic_test).loc[naage_test.index]\n",
    "oh_test_age_pre_impute = oh_naage_test.append(onehot_agedata)\n",
    "print(oh_test_age_pre_impute.shape)"
   ]
  },
  {
   "cell_type": "code",
   "execution_count": null,
   "metadata": {},
   "outputs": [],
   "source": [
    "oh_test_age_impute = knnimpute.knn_impute_reference(oh_test_age_pre_impute.values,\n",
    "                                                    np.isnan(oh_test_age_pre_impute.values), best_kval)\n",
    "\n",
    "oh_test_age_impute = pd.DataFrame(oh_test_age_impute, columns=oh_naage_test.columns,\n",
    "                                  index=np.concatenate([naage_test.index, onehot_agedata.index]))\n",
    "titanic_test_age_knn_impute = titanic_test.copy(deep=True)\n",
    "titanic_test_age_knn_impute.loc[naage_test.index, 'Age'] = oh_test_age_impute.loc[naage_test.index, 'Age']\n",
    "print(titanic_test_age_knn_impute.isnull().sum())"
   ]
  },
  {
   "cell_type": "code",
   "execution_count": null,
   "metadata": {},
   "outputs": [],
   "source": [
    "plt.hist(titanic_test.Age, density=True, label='test')\n",
    "plt.hist(train_data.Age, density=True, fill=False, hatch='/', label='train')\n",
    "plt.title('Age distribution')\n",
    "plt.legend()\n",
    "plt.xlabel('Age')"
   ]
  },
  {
   "cell_type": "code",
   "execution_count": null,
   "metadata": {},
   "outputs": [],
   "source": [
    "oh_test_data_knn_age = do_onehot(titanic_test_age_knn_impute)\n",
    "oh_test_data_knn_age.drop('Sex_male', axis=1, inplace=True)"
   ]
  },
  {
   "cell_type": "code",
   "execution_count": null,
   "metadata": {},
   "outputs": [],
   "source": [
    "test_pred = xgbbest.predict_proba(oh_test_data_knn_age.values)\n",
    "yhat = np.argmax(test_pred, axis=1)"
   ]
  },
  {
   "cell_type": "code",
   "execution_count": null,
   "metadata": {},
   "outputs": [],
   "source": [
    "submission = pd.DataFrame(yhat, index=titanic_test.index, columns=['Survived'])\n",
    "submission.reset_index(inplace=True)\n",
    "print(submission)\n",
    "submission.to_csv('ignacio_xgbtitanic6.csv', index=False)"
   ]
  }
 ],
 "metadata": {
  "kernelspec": {
   "display_name": "Python 3",
   "language": "python",
   "name": "python3"
  },
  "language_info": {
   "codemirror_mode": {
    "name": "ipython",
    "version": 3
   },
   "file_extension": ".py",
   "mimetype": "text/x-python",
   "name": "python",
   "nbconvert_exporter": "python",
   "pygments_lexer": "ipython3",
   "version": "3.6.4"
  }
 },
 "nbformat": 4,
 "nbformat_minor": 1
}
